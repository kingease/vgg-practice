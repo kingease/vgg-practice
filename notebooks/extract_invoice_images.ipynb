{
 "cells": [
  {
   "cell_type": "code",
   "execution_count": 1,
   "metadata": {
    "collapsed": true
   },
   "outputs": [],
   "source": [
    "%matplotlib inline"
   ]
  },
  {
   "cell_type": "code",
   "execution_count": 2,
   "metadata": {
    "collapsed": true
   },
   "outputs": [],
   "source": [
    "import matplotlib.pyplot as plt"
   ]
  },
  {
   "cell_type": "code",
   "execution_count": 3,
   "metadata": {
    "collapsed": true
   },
   "outputs": [],
   "source": [
    "import cv2"
   ]
  },
  {
   "cell_type": "code",
   "execution_count": 4,
   "metadata": {},
   "outputs": [],
   "source": [
    "from invorec.detector import QuadDetector"
   ]
  },
  {
   "cell_type": "code",
   "execution_count": 5,
   "metadata": {
    "collapsed": true
   },
   "outputs": [],
   "source": [
    "from invorec.rectifier import ImageRectifier"
   ]
  },
  {
   "cell_type": "code",
   "execution_count": 6,
   "metadata": {
    "collapsed": true
   },
   "outputs": [],
   "source": [
    "import os"
   ]
  },
  {
   "cell_type": "code",
   "execution_count": 7,
   "metadata": {
    "collapsed": true
   },
   "outputs": [],
   "source": [
    "base_dir = '../data/test/inputs/oppo 1600/'"
   ]
  },
  {
   "cell_type": "code",
   "execution_count": 8,
   "metadata": {
    "collapsed": true
   },
   "outputs": [],
   "source": [
    "! mkdir -p ../data/output/oppo"
   ]
  },
  {
   "cell_type": "code",
   "execution_count": 9,
   "metadata": {},
   "outputs": [],
   "source": [
    "image_files = os.listdir(base_dir)"
   ]
  },
  {
   "cell_type": "code",
   "execution_count": 10,
   "metadata": {},
   "outputs": [],
   "source": [
    "paths = []\n",
    "for filename in image_files:\n",
    "    paths.append(os.path.join(os.path.realpath(base_dir), filename))"
   ]
  },
  {
   "cell_type": "code",
   "execution_count": 11,
   "metadata": {},
   "outputs": [
    {
     "data": {
      "text/plain": [
       "'/home/mobile/Documents/orientation_detection/data/test/inputs/oppo 1600/zxcFmTQsnCrxOFH3yShcQ68bx3cJTEhEp46U3QE_AwqAM1ur6UfXbL6sojyrfLC3.jpg'"
      ]
     },
     "execution_count": 11,
     "metadata": {},
     "output_type": "execute_result"
    }
   ],
   "source": [
    "paths[0]"
   ]
  },
  {
   "cell_type": "code",
   "execution_count": 12,
   "metadata": {},
   "outputs": [
    {
     "name": "stdout",
     "output_type": "stream",
     "text": [
      "zxcFmTQsnCrxOFH3yShcQ68bx3cJTEhEp46U3QE_AwqAM1ur6UfXbL6sojyrfLC3.jpg\n",
      "dIwZ9gd7Inl1lFuWNrPpDTsI4BrPee3fh6AQ--8dBPVTsd0pdV2fSj5p6jbwhgGG.jpg\n",
      "SzJZPQkypaTR3cA0CGFaFn7VedKPqWAUjZIw-vb0YxlLYGhuGOeZ1s6C-X-cx6fL.jpg\n",
      "oxiIRqZ2-MnPXknEweCZy98xsZDy6TxOeA6QPvrA1km8pJDOf_0AaYSBIoirc5nh.jpg\n",
      "dCApnZbV_5rXIb43_80yH7O0-UE-GtGm-8JIKmBka3ej0yr1q5bTL24QUcgL3keC.jpg\n",
      "8zUXVB3XtZAwMUqESRQm6aanBXvvoRvUHnb3Ynkf7-zwjBFUt87Ed3V2ihz30F-a.jpg\n",
      "fBzxFAKR20kkLMde7oOfIyhBD_OumNtdiQBbVUcfJFdUKbHG1Uv1K1YJ76LfAaDL.jpg\n",
      "yxo9Kvr2Md6M7iUUBPB37WObeB8Mc5Tsxs6uJ--S-gUUwKSMpS5KiA510qBqBCgB.jpg\n",
      "-sXbjlN1NmZhxTA_s6y5JTr-dCAoYQZrh4aNoHYyLO4SOfNicIP9q2jgF7PYJlmu.jpg\n",
      "SGnghr3i2DUaZPw-fe8XphGoLveciptLg-zy3W0HRGTztAS-mBgZnGuoTfk9VzR8.jpg\n",
      "ra1RCNGWHaqdl9Lci2C-gnPRgOi-ymPhEbHZX4BTHPlANP1Bo7VSBdyodJBdzRr2.jpg\n",
      "DhQv-zRCT7VAPeWDHrbo_b9L1btHOo3MQSRBJtjBuw8332G1zkURJ8sR3dAHY1JN.jpg\n",
      "2YQtldK33qf0y2IT_kVjs0uhZAILteSISIm3sINw6LcfL2t2mdM9fpinyP-e7Sh7.jpg\n",
      "nhq5JP1h0dF0Ku3HqBARVEW1yQSTfP4ViHU6P_6fjjw3wy7XrWxP8AGHNJn1qtzo.jpg\n",
      "sCEGCs8Yo5fcclyY9pJE3PfCjUyyNMyOPFDDbZGumOV6upbt5ZUi0OVe4Zi2NJ5J.jpg\n",
      "8Xt3V6oKYQn9YVs2lm7M4kCaS6XH36G3e4FXX0gWAKAmzVCGubsrEHDXKZPUiQ7C.jpg\n"
     ]
    }
   ],
   "source": [
    "for path, filename in zip(paths, image_files):\n",
    "    im = cv2.cvtColor(cv2.imread(path), cv2.COLOR_BGR2RGB)\n",
    "    iw = QuadDetector()\n",
    "    target, rz_target,  binary = iw.get_focused_rectangle(im)\n",
    "    out_filename = os.path.join('../data/output/oppo', filename)\n",
    "    if len(target) > 0:\n",
    "        # rectifiy image\n",
    "        print(filename)\n",
    "        img_invoice = ImageRectifier.done(im, target)\n",
    "        cv2.imwrite(out_filename, cv2.cvtColor(img_invoice, cv2.COLOR_RGB2BGR))\n",
    "    else:\n",
    "        print('{} cannot be rectified.'.format(out_filename))"
   ]
  },
  {
   "cell_type": "code",
   "execution_count": null,
   "metadata": {
    "collapsed": true
   },
   "outputs": [],
   "source": []
  }
 ],
 "metadata": {
  "anaconda-cloud": {},
  "kernelspec": {
   "display_name": "Python 2",
   "language": "python",
   "name": "python2"
  },
  "language_info": {
   "codemirror_mode": {
    "name": "ipython",
    "version": 2
   },
   "file_extension": ".py",
   "mimetype": "text/x-python",
   "name": "python",
   "nbconvert_exporter": "python",
   "pygments_lexer": "ipython2",
   "version": "2.7.12"
  }
 },
 "nbformat": 4,
 "nbformat_minor": 2
}
