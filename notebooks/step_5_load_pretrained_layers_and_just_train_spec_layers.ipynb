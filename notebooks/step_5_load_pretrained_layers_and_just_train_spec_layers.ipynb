{
 "cells": [
  {
   "cell_type": "code",
   "execution_count": 1,
   "metadata": {
    "collapsed": true
   },
   "outputs": [],
   "source": [
    "import sys\n",
    "import os\n",
    "import tensorflow as tf\n",
    "import tensorflow.contrib.slim as slim\n",
    "\n",
    "sys.path.append('../datasets/')\n",
    "sys.path.append('../nets/')\n",
    "sys.path.append('../preprocessing/')\n",
    "\n",
    "import orientset\n",
    "oriset = orientset.get_split('', '../../../orient_dataset/')"
   ]
  },
  {
   "cell_type": "code",
   "execution_count": 2,
   "metadata": {
    "collapsed": true
   },
   "outputs": [],
   "source": [
    "def ori_network(inputs, is_training=True, keep_prob=0.5, scope='ori_network'):\n",
    "    with tf.variable_scope(scope, 'ori_network', [inputs]) as sc:\n",
    "        with slim.arg_scope([slim.conv2d, slim.fully_connected],\n",
    "                        activation_fn=tf.nn.relu,\n",
    "                        normalizer_fn=slim.batch_norm,\n",
    "                        normalizer_params={'is_training': is_training, 'decay': 0.95},\n",
    "                        weights_initializer=tf.truncated_normal_initializer(0.0, 0.01),\n",
    "                        weights_regularizer=slim.l2_regularizer(0.0005)):\n",
    "            net = slim.repeat(inputs, 2, slim.conv2d, 64, [3, 3], scope='conv1', normalizer_fn=None)\n",
    "            net = slim.max_pool2d(net, [2, 2], scope='pool1')\n",
    "            net = slim.repeat(net, 2, slim.conv2d, 128, [3, 3], scope='conv2', normalizer_fn=None)\n",
    "            net = slim.max_pool2d(net, [2, 2], scope='pool2')\n",
    "            net = slim.repeat(net, 3, slim.conv2d, 256, [3, 3], scope='conv3', normalizer_fn=None)\n",
    "            net = slim.max_pool2d(net, [2, 2], scope='pool3')\n",
    "            net = slim.repeat(net, 3, slim.conv2d, 512, [3, 3], scope='conv4', normalizer_fn=None)\n",
    "            net = slim.max_pool2d(net, [2, 2], scope='pool4')\n",
    "            net = slim.repeat(net, 3, slim.conv2d, 512, [3, 3], scope='conv5', normalizer_fn=None)\n",
    "            net = slim.max_pool2d(net, [2, 2], scope='pool5')\n",
    "            net = slim.conv2d(net, 4096, [7, 7], padding='VALID', scope='fc6')\n",
    "            net = slim.dropout(net, keep_prob, is_training=is_training,\n",
    "                         scope='dropout6')\n",
    "            # fully-connected network\n",
    "            net = slim.fully_connected(net, 4096, scope='fc7',)\n",
    "            net = slim.dropout(net, keep_prob, is_training=is_training, scope='dropout7')\n",
    "            # output layer which has four classes\n",
    "            net = slim.fully_connected(net, 4, scope='fc8', activation_fn=None)\n",
    "            net = tf.squeeze(net, [1, 2], name='fc8/squeezed')\n",
    "            return net"
   ]
  },
  {
   "cell_type": "markdown",
   "metadata": {},
   "source": [
    "## restore and trainable spec"
   ]
  },
  {
   "cell_type": "code",
   "execution_count": 3,
   "metadata": {
    "collapsed": true
   },
   "outputs": [],
   "source": [
    "import vgg_preprocessing, vgg"
   ]
  },
  {
   "cell_type": "code",
   "execution_count": 4,
   "metadata": {},
   "outputs": [
    {
     "name": "stdout",
     "output_type": "stream",
     "text": [
      "INFO:tensorflow:Restoring parameters from ../logs/model.ckpt-1342\n",
      "INFO:tensorflow:Starting Session.\n",
      "INFO:tensorflow:Starting Queues.\n",
      "INFO:tensorflow:global_step/sec: 0\n",
      "INFO:tensorflow:global step 1344: loss = 0.5347 (6.79 sec/step)\n",
      "INFO:tensorflow:global step 1345: loss = 0.5296 (1.70 sec/step)\n",
      "INFO:tensorflow:global_step/sec: 0.200467\n",
      "INFO:tensorflow:global step 1346: loss = 0.4476 (1.61 sec/step)\n",
      "INFO:tensorflow:global step 1347: loss = 0.3622 (3.41 sec/step)\n",
      "INFO:tensorflow:global step 1348: loss = 0.4059 (1.48 sec/step)\n",
      "INFO:tensorflow:global step 1349: loss = 0.4192 (1.52 sec/step)\n",
      "INFO:tensorflow:global step 1350: loss = 0.3452 (1.40 sec/step)\n",
      "INFO:tensorflow:global step 1351: loss = 0.3386 (1.37 sec/step)\n",
      "INFO:tensorflow:global_step/sec: 0.600004\n",
      "INFO:tensorflow:global step 1352: loss = 0.4315 (1.31 sec/step)\n",
      "INFO:tensorflow:global step 1353: loss = 0.4536 (2.99 sec/step)\n",
      "INFO:tensorflow:global step 1354: loss = 0.4133 (1.36 sec/step)\n",
      "INFO:tensorflow:global step 1355: loss = 0.3189 (1.42 sec/step)\n",
      "INFO:tensorflow:global step 1356: loss = 0.3329 (1.40 sec/step)\n",
      "INFO:tensorflow:global step 1357: loss = 0.3599 (1.43 sec/step)\n",
      "INFO:tensorflow:global_step/sec: 0.59999\n",
      "INFO:tensorflow:global step 1358: loss = 0.3930 (1.44 sec/step)\n",
      "INFO:tensorflow:global step 1359: loss = 0.5392 (3.12 sec/step)\n",
      "INFO:tensorflow:global step 1360: loss = 0.4927 (1.63 sec/step)\n",
      "INFO:tensorflow:global step 1361: loss = 0.4929 (1.61 sec/step)\n",
      "INFO:tensorflow:global step 1362: loss = 0.3951 (1.37 sec/step)\n",
      "INFO:tensorflow:global step 1363: loss = 0.6982 (1.34 sec/step)\n",
      "INFO:tensorflow:global_step/sec: 0.600008\n",
      "INFO:tensorflow:global step 1364: loss = 0.4469 (1.44 sec/step)\n",
      "INFO:tensorflow:global step 1365: loss = 0.4173 (3.13 sec/step)\n",
      "INFO:tensorflow:global step 1366: loss = 0.4016 (1.47 sec/step)\n",
      "INFO:tensorflow:global step 1367: loss = 0.3551 (1.52 sec/step)\n",
      "INFO:tensorflow:global step 1368: loss = 0.4037 (1.64 sec/step)\n",
      "INFO:tensorflow:global_step/sec: 0.499997\n",
      "INFO:tensorflow:global step 1369: loss = 0.3234 (1.62 sec/step)\n",
      "INFO:tensorflow:global step 1370: loss = 0.3688 (3.40 sec/step)\n",
      "INFO:tensorflow:global step 1371: loss = 0.4271 (1.51 sec/step)\n",
      "INFO:tensorflow:global step 1372: loss = 0.4849 (1.58 sec/step)\n",
      "INFO:tensorflow:global step 1373: loss = 0.3520 (1.45 sec/step)\n",
      "INFO:tensorflow:global_step/sec: 0.500004\n",
      "INFO:tensorflow:global step 1374: loss = 0.3582 (1.57 sec/step)\n",
      "INFO:tensorflow:global step 1375: loss = 0.4719 (3.14 sec/step)\n",
      "INFO:tensorflow:global step 1376: loss = 0.3563 (1.63 sec/step)\n",
      "INFO:tensorflow:global step 1377: loss = 0.3744 (1.50 sec/step)\n",
      "INFO:tensorflow:global step 1378: loss = 0.3416 (1.35 sec/step)\n",
      "INFO:tensorflow:global step 1379: loss = 0.3131 (1.47 sec/step)\n",
      "INFO:tensorflow:global_step/sec: 0.600003\n",
      "INFO:tensorflow:global step 1380: loss = 0.3385 (1.55 sec/step)\n",
      "INFO:tensorflow:global step 1381: loss = 0.4066 (3.07 sec/step)\n",
      "INFO:tensorflow:global step 1382: loss = 0.3763 (1.48 sec/step)\n",
      "INFO:tensorflow:global step 1383: loss = 0.4969 (1.49 sec/step)\n",
      "INFO:tensorflow:global step 1384: loss = 0.4020 (1.35 sec/step)\n",
      "INFO:tensorflow:global step 1385: loss = 0.3627 (1.38 sec/step)\n",
      "INFO:tensorflow:global_step/sec: 0.599988\n",
      "INFO:tensorflow:global step 1386: loss = 0.4121 (1.49 sec/step)\n",
      "INFO:tensorflow:global step 1387: loss = 0.3903 (3.28 sec/step)\n",
      "INFO:tensorflow:global step 1388: loss = 0.4958 (1.81 sec/step)\n",
      "INFO:tensorflow:global step 1389: loss = 0.3764 (1.65 sec/step)\n"
     ]
    },
    {
     "ename": "KeyboardInterrupt",
     "evalue": "",
     "output_type": "error",
     "traceback": [
      "\u001b[0;31m---------------------------------------------------------------------------\u001b[0m",
      "\u001b[0;31mKeyboardInterrupt\u001b[0m                         Traceback (most recent call last)",
      "\u001b[0;32m<ipython-input-4-d4574e2b6f10>\u001b[0m in \u001b[0;36m<module>\u001b[0;34m()\u001b[0m\n\u001b[1;32m     45\u001b[0m     slim.learning.train(train_op, '../logs/', log_every_n_steps=1, \n\u001b[1;32m     46\u001b[0m                         \u001b[0minit_fn\u001b[0m\u001b[0;34m=\u001b[0m\u001b[0minit_fn\u001b[0m\u001b[0;34m,\u001b[0m\u001b[0;34m\u001b[0m\u001b[0m\n\u001b[0;32m---> 47\u001b[0;31m                         save_summaries_secs=10)\n\u001b[0m",
      "\u001b[0;32m/home/ubuntu/.local/lib/python2.7/site-packages/tensorflow/contrib/slim/python/slim/learning.pyc\u001b[0m in \u001b[0;36mtrain\u001b[0;34m(train_op, logdir, train_step_fn, train_step_kwargs, log_every_n_steps, graph, master, is_chief, global_step, number_of_steps, init_op, init_feed_dict, local_init_op, init_fn, ready_op, summary_op, save_summaries_secs, summary_writer, startup_delay_steps, saver, save_interval_secs, sync_optimizer, session_config, trace_every_n_steps)\u001b[0m\n\u001b[1;32m    740\u001b[0m           \u001b[0;32mwhile\u001b[0m \u001b[0;32mnot\u001b[0m \u001b[0msv\u001b[0m\u001b[0;34m.\u001b[0m\u001b[0mshould_stop\u001b[0m\u001b[0;34m(\u001b[0m\u001b[0;34m)\u001b[0m\u001b[0;34m:\u001b[0m\u001b[0;34m\u001b[0m\u001b[0m\n\u001b[1;32m    741\u001b[0m             total_loss, should_stop = train_step_fn(\n\u001b[0;32m--> 742\u001b[0;31m                 sess, train_op, global_step, train_step_kwargs)\n\u001b[0m\u001b[1;32m    743\u001b[0m             \u001b[0;32mif\u001b[0m \u001b[0mshould_stop\u001b[0m\u001b[0;34m:\u001b[0m\u001b[0;34m\u001b[0m\u001b[0m\n\u001b[1;32m    744\u001b[0m               \u001b[0mlogging\u001b[0m\u001b[0;34m.\u001b[0m\u001b[0minfo\u001b[0m\u001b[0;34m(\u001b[0m\u001b[0;34m'Stopping Training.'\u001b[0m\u001b[0;34m)\u001b[0m\u001b[0;34m\u001b[0m\u001b[0m\n",
      "\u001b[0;32m/home/ubuntu/.local/lib/python2.7/site-packages/tensorflow/contrib/slim/python/slim/learning.pyc\u001b[0m in \u001b[0;36mtrain_step\u001b[0;34m(sess, train_op, global_step, train_step_kwargs)\u001b[0m\n\u001b[1;32m    482\u001b[0m   total_loss, np_global_step = sess.run([train_op, global_step],\n\u001b[1;32m    483\u001b[0m                                         \u001b[0moptions\u001b[0m\u001b[0;34m=\u001b[0m\u001b[0mtrace_run_options\u001b[0m\u001b[0;34m,\u001b[0m\u001b[0;34m\u001b[0m\u001b[0m\n\u001b[0;32m--> 484\u001b[0;31m                                         run_metadata=run_metadata)\n\u001b[0m\u001b[1;32m    485\u001b[0m   \u001b[0mtime_elapsed\u001b[0m \u001b[0;34m=\u001b[0m \u001b[0mtime\u001b[0m\u001b[0;34m.\u001b[0m\u001b[0mtime\u001b[0m\u001b[0;34m(\u001b[0m\u001b[0;34m)\u001b[0m \u001b[0;34m-\u001b[0m \u001b[0mstart_time\u001b[0m\u001b[0;34m\u001b[0m\u001b[0m\n\u001b[1;32m    486\u001b[0m \u001b[0;34m\u001b[0m\u001b[0m\n",
      "\u001b[0;32m/home/ubuntu/.local/lib/python2.7/site-packages/tensorflow/python/client/session.pyc\u001b[0m in \u001b[0;36mrun\u001b[0;34m(self, fetches, feed_dict, options, run_metadata)\u001b[0m\n\u001b[1;32m    776\u001b[0m     \u001b[0;32mtry\u001b[0m\u001b[0;34m:\u001b[0m\u001b[0;34m\u001b[0m\u001b[0m\n\u001b[1;32m    777\u001b[0m       result = self._run(None, fetches, feed_dict, options_ptr,\n\u001b[0;32m--> 778\u001b[0;31m                          run_metadata_ptr)\n\u001b[0m\u001b[1;32m    779\u001b[0m       \u001b[0;32mif\u001b[0m \u001b[0mrun_metadata\u001b[0m\u001b[0;34m:\u001b[0m\u001b[0;34m\u001b[0m\u001b[0m\n\u001b[1;32m    780\u001b[0m         \u001b[0mproto_data\u001b[0m \u001b[0;34m=\u001b[0m \u001b[0mtf_session\u001b[0m\u001b[0;34m.\u001b[0m\u001b[0mTF_GetBuffer\u001b[0m\u001b[0;34m(\u001b[0m\u001b[0mrun_metadata_ptr\u001b[0m\u001b[0;34m)\u001b[0m\u001b[0;34m\u001b[0m\u001b[0m\n",
      "\u001b[0;32m/home/ubuntu/.local/lib/python2.7/site-packages/tensorflow/python/client/session.pyc\u001b[0m in \u001b[0;36m_run\u001b[0;34m(self, handle, fetches, feed_dict, options, run_metadata)\u001b[0m\n\u001b[1;32m    980\u001b[0m     \u001b[0;32mif\u001b[0m \u001b[0mfinal_fetches\u001b[0m \u001b[0;32mor\u001b[0m \u001b[0mfinal_targets\u001b[0m\u001b[0;34m:\u001b[0m\u001b[0;34m\u001b[0m\u001b[0m\n\u001b[1;32m    981\u001b[0m       results = self._do_run(handle, final_targets, final_fetches,\n\u001b[0;32m--> 982\u001b[0;31m                              feed_dict_string, options, run_metadata)\n\u001b[0m\u001b[1;32m    983\u001b[0m     \u001b[0;32melse\u001b[0m\u001b[0;34m:\u001b[0m\u001b[0;34m\u001b[0m\u001b[0m\n\u001b[1;32m    984\u001b[0m       \u001b[0mresults\u001b[0m \u001b[0;34m=\u001b[0m \u001b[0;34m[\u001b[0m\u001b[0;34m]\u001b[0m\u001b[0;34m\u001b[0m\u001b[0m\n",
      "\u001b[0;32m/home/ubuntu/.local/lib/python2.7/site-packages/tensorflow/python/client/session.pyc\u001b[0m in \u001b[0;36m_do_run\u001b[0;34m(self, handle, target_list, fetch_list, feed_dict, options, run_metadata)\u001b[0m\n\u001b[1;32m   1030\u001b[0m     \u001b[0;32mif\u001b[0m \u001b[0mhandle\u001b[0m \u001b[0;32mis\u001b[0m \u001b[0mNone\u001b[0m\u001b[0;34m:\u001b[0m\u001b[0;34m\u001b[0m\u001b[0m\n\u001b[1;32m   1031\u001b[0m       return self._do_call(_run_fn, self._session, feed_dict, fetch_list,\n\u001b[0;32m-> 1032\u001b[0;31m                            target_list, options, run_metadata)\n\u001b[0m\u001b[1;32m   1033\u001b[0m     \u001b[0;32melse\u001b[0m\u001b[0;34m:\u001b[0m\u001b[0;34m\u001b[0m\u001b[0m\n\u001b[1;32m   1034\u001b[0m       return self._do_call(_prun_fn, self._session, handle, feed_dict,\n",
      "\u001b[0;32m/home/ubuntu/.local/lib/python2.7/site-packages/tensorflow/python/client/session.pyc\u001b[0m in \u001b[0;36m_do_call\u001b[0;34m(self, fn, *args)\u001b[0m\n\u001b[1;32m   1037\u001b[0m   \u001b[0;32mdef\u001b[0m \u001b[0m_do_call\u001b[0m\u001b[0;34m(\u001b[0m\u001b[0mself\u001b[0m\u001b[0;34m,\u001b[0m \u001b[0mfn\u001b[0m\u001b[0;34m,\u001b[0m \u001b[0;34m*\u001b[0m\u001b[0margs\u001b[0m\u001b[0;34m)\u001b[0m\u001b[0;34m:\u001b[0m\u001b[0;34m\u001b[0m\u001b[0m\n\u001b[1;32m   1038\u001b[0m     \u001b[0;32mtry\u001b[0m\u001b[0;34m:\u001b[0m\u001b[0;34m\u001b[0m\u001b[0m\n\u001b[0;32m-> 1039\u001b[0;31m       \u001b[0;32mreturn\u001b[0m \u001b[0mfn\u001b[0m\u001b[0;34m(\u001b[0m\u001b[0;34m*\u001b[0m\u001b[0margs\u001b[0m\u001b[0;34m)\u001b[0m\u001b[0;34m\u001b[0m\u001b[0m\n\u001b[0m\u001b[1;32m   1040\u001b[0m     \u001b[0;32mexcept\u001b[0m \u001b[0merrors\u001b[0m\u001b[0;34m.\u001b[0m\u001b[0mOpError\u001b[0m \u001b[0;32mas\u001b[0m \u001b[0me\u001b[0m\u001b[0;34m:\u001b[0m\u001b[0;34m\u001b[0m\u001b[0m\n\u001b[1;32m   1041\u001b[0m       \u001b[0mmessage\u001b[0m \u001b[0;34m=\u001b[0m \u001b[0mcompat\u001b[0m\u001b[0;34m.\u001b[0m\u001b[0mas_text\u001b[0m\u001b[0;34m(\u001b[0m\u001b[0me\u001b[0m\u001b[0;34m.\u001b[0m\u001b[0mmessage\u001b[0m\u001b[0;34m)\u001b[0m\u001b[0;34m\u001b[0m\u001b[0m\n",
      "\u001b[0;32m/home/ubuntu/.local/lib/python2.7/site-packages/tensorflow/python/client/session.pyc\u001b[0m in \u001b[0;36m_run_fn\u001b[0;34m(session, feed_dict, fetch_list, target_list, options, run_metadata)\u001b[0m\n\u001b[1;32m   1019\u001b[0m         return tf_session.TF_Run(session, options,\n\u001b[1;32m   1020\u001b[0m                                  \u001b[0mfeed_dict\u001b[0m\u001b[0;34m,\u001b[0m \u001b[0mfetch_list\u001b[0m\u001b[0;34m,\u001b[0m \u001b[0mtarget_list\u001b[0m\u001b[0;34m,\u001b[0m\u001b[0;34m\u001b[0m\u001b[0m\n\u001b[0;32m-> 1021\u001b[0;31m                                  status, run_metadata)\n\u001b[0m\u001b[1;32m   1022\u001b[0m \u001b[0;34m\u001b[0m\u001b[0m\n\u001b[1;32m   1023\u001b[0m     \u001b[0;32mdef\u001b[0m \u001b[0m_prun_fn\u001b[0m\u001b[0;34m(\u001b[0m\u001b[0msession\u001b[0m\u001b[0;34m,\u001b[0m \u001b[0mhandle\u001b[0m\u001b[0;34m,\u001b[0m \u001b[0mfeed_dict\u001b[0m\u001b[0;34m,\u001b[0m \u001b[0mfetch_list\u001b[0m\u001b[0;34m)\u001b[0m\u001b[0;34m:\u001b[0m\u001b[0;34m\u001b[0m\u001b[0m\n",
      "\u001b[0;31mKeyboardInterrupt\u001b[0m: "
     ]
    }
   ],
   "source": [
    "with tf.Graph().as_default():\n",
    "    # read train data\n",
    "    data_provider = slim.dataset_data_provider.DatasetDataProvider(oriset)\n",
    "    image, label = data_provider.get(['image', 'label'])\n",
    "    \n",
    "    VGG_IMAGE_SIZE = vgg.vgg_16.default_image_size\n",
    "    image = vgg_preprocessing.preprocess_for_train(image, VGG_IMAGE_SIZE, VGG_IMAGE_SIZE)\n",
    "    \n",
    "    # batch data\n",
    "    batch_image, batch_label = tf.train.batch([image, label], batch_size=32, allow_smaller_final_batch=False)\n",
    "    batch_one_hot_label = slim.one_hot_encoding(batch_label, oriset.num_classes)\n",
    "    batch_one_hot_label = tf.squeeze(batch_one_hot_label, [1])\n",
    "    \n",
    "    # create the training net\n",
    "    logits = ori_network(batch_image, is_training=True)\n",
    "\n",
    "    # create loss\n",
    "    total_loss = tf.losses.softmax_cross_entropy(batch_one_hot_label, logits)\n",
    "    tf.summary.scalar('total_loss', total_loss)\n",
    "    \n",
    "    # find the variablee we want to train\n",
    "    scopes =['ori_network/fc6', 'ori_network/fc7', 'ori_network/fc8']\n",
    "    variables_to_train =[]\n",
    "    for scope in scopes:\n",
    "        variables = tf.get_collection(tf.GraphKeys.TRAINABLE_VARIABLES, scope)\n",
    "        variables_to_train.extend(variables)\n",
    "    \n",
    "    # restore the specified layers' parameters\n",
    "    variables_to_restore = slim.get_variables_to_restore(exclude=scopes)\n",
    "    variables_to_restore = { var.op.name.replace('ori_network', 'vgg_16'):var for var in variables_to_restore}\n",
    "    \n",
    "    # create optimizer\n",
    "    optimizer = tf.train.AdamOptimizer(learning_rate=0.0001)\n",
    "\n",
    "    # create train_op\n",
    "    train_op = slim.learning.create_train_op(total_loss, \n",
    "                                             optimizer, \n",
    "                                             variables_to_train=variables_to_train,\n",
    "                                             summarize_gradients=True)\n",
    "    \n",
    "    # restore parameters\n",
    "    init_fn = slim.assign_from_checkpoint_fn('../../SSD-Tensorflow/checkpoints/vgg_16.ckpt',variables_to_restore)\n",
    "    \n",
    "    # start to learn\n",
    "    slim.learning.train(train_op, '../logs/', log_every_n_steps=1, \n",
    "                        init_fn=init_fn, \n",
    "                        save_summaries_secs=10)"
   ]
  },
  {
   "cell_type": "code",
   "execution_count": null,
   "metadata": {
    "collapsed": true
   },
   "outputs": [],
   "source": []
  }
 ],
 "metadata": {
  "anaconda-cloud": {},
  "kernelspec": {
   "display_name": "Python 2",
   "language": "python",
   "name": "python2"
  },
  "language_info": {
   "codemirror_mode": {
    "name": "ipython",
    "version": 2
   },
   "file_extension": ".py",
   "mimetype": "text/x-python",
   "name": "python",
   "nbconvert_exporter": "python",
   "pygments_lexer": "ipython2",
   "version": "2.7.12"
  }
 },
 "nbformat": 4,
 "nbformat_minor": 2
}
