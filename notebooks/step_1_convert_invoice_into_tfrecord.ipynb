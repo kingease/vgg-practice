{
 "cells": [
  {
   "cell_type": "code",
   "execution_count": 1,
   "metadata": {
    "collapsed": true
   },
   "outputs": [],
   "source": [
    "%matplotlib inline\n",
    "import matplotlib.pyplot as plt\n",
    "import tensorflow as tf\n",
    "import cv2\n",
    "import numpy as np"
   ]
  },
  {
   "cell_type": "code",
   "execution_count": 2,
   "metadata": {
    "collapsed": true
   },
   "outputs": [],
   "source": [
    "import os\n",
    "from tqdm import tqdm"
   ]
  },
  {
   "cell_type": "code",
   "execution_count": 3,
   "metadata": {
    "collapsed": true
   },
   "outputs": [],
   "source": [
    "import sys\n",
    "sys.path.append('../datasets/')"
   ]
  },
  {
   "cell_type": "code",
   "execution_count": 4,
   "metadata": {
    "collapsed": false
   },
   "outputs": [],
   "source": [
    "from dataset_utils import int64_feature, bytes_feature"
   ]
  },
  {
   "cell_type": "markdown",
   "metadata": {},
   "source": [
    "# convert to tfrecord"
   ]
  },
  {
   "cell_type": "code",
   "execution_count": 5,
   "metadata": {
    "collapsed": true
   },
   "outputs": [],
   "source": [
    "## fetch all property of one image\n",
    "## make every single value as a property\n",
    "## it means multi-dimensions value will be\n",
    "## decomposed into several single values\n",
    "# read image data\n",
    "# get image height\n",
    "# get image width\n",
    "# get image depth\n",
    "# get image label"
   ]
  },
  {
   "cell_type": "code",
   "execution_count": 6,
   "metadata": {
    "collapsed": true
   },
   "outputs": [],
   "source": [
    "## compose features\n",
    "## make example\n",
    "## create tfrecord_writer\n",
    "# write example to file"
   ]
  },
  {
   "cell_type": "code",
   "execution_count": 7,
   "metadata": {
    "collapsed": true
   },
   "outputs": [],
   "source": [
    "dir_names = ['../data/0/', '../data/90/', '../data/180/', '../data/270/']"
   ]
  },
  {
   "cell_type": "code",
   "execution_count": 8,
   "metadata": {
    "collapsed": false
   },
   "outputs": [],
   "source": [
    "dir_to_label = dict(zip(dir_names, range(1, len(dir_names)+1)))"
   ]
  },
  {
   "cell_type": "code",
   "execution_count": 9,
   "metadata": {
    "collapsed": false
   },
   "outputs": [],
   "source": [
    "def example_gen():\n",
    "    for dir_name in dir_names:\n",
    "        filenames = os.listdir(dir_name)\n",
    "        filenames = [n for n in filenames if os.path.splitext(n)[1].lower() in ['.jpg', '.jpeg']]\n",
    "        for filename in tqdm(filenames):\n",
    "            path = os.path.join(dir_name, filename)\n",
    "            image_data = tf.gfile.FastGFile(path, 'r').read()\n",
    "            yield tf.train.Example(features=tf.train.Features(feature={\n",
    "                'image/encode': bytes_feature(image_data),\n",
    "                'image/format': bytes_feature(b'JPEG'),\n",
    "                'image/label': int64_feature(dir_to_label[dir_name])\n",
    "            }))"
   ]
  },
  {
   "cell_type": "code",
   "execution_count": 14,
   "metadata": {
    "collapsed": true
   },
   "outputs": [],
   "source": [
    "a = example_gen()"
   ]
  },
  {
   "cell_type": "code",
   "execution_count": 15,
   "metadata": {
    "collapsed": false
   },
   "outputs": [
    {
     "name": "stderr",
     "output_type": "stream",
     "text": [
      "100%|██████████| 166/166 [00:00<00:00, 172.04it/s]\n",
      "100%|██████████| 166/166 [00:00<00:00, 286.96it/s]\n",
      "100%|██████████| 166/166 [00:00<00:00, 284.75it/s]\n",
      "100%|██████████| 166/166 [00:00<00:00, 303.86it/s]\n"
     ]
    }
   ],
   "source": [
    "fidx = 0\n",
    "SAMPLE_PER_FILES = 200\n",
    "b_quit = False\n",
    "while True:\n",
    "    tf_filename = \"orient_train_{:03d}.tfrecord\".format(fidx)\n",
    "    with tf.python_io.TFRecordWriter(tf_filename) as tfrecord_writer:\n",
    "        for j in range(SAMPLE_PER_FILES):\n",
    "            try:\n",
    "                example = next(a)\n",
    "                tfrecord_writer.write(example.SerializeToString())\n",
    "            except StopIteration:\n",
    "                b_quit = True\n",
    "            finally:\n",
    "                if b_quit: break\n",
    "    if b_quit: break\n",
    "    fidx += 1"
   ]
  },
  {
   "cell_type": "code",
   "execution_count": 16,
   "metadata": {
    "collapsed": true
   },
   "outputs": [],
   "source": [
    "! open ."
   ]
  },
  {
   "cell_type": "code",
   "execution_count": null,
   "metadata": {
    "collapsed": true
   },
   "outputs": [],
   "source": []
  }
 ],
 "metadata": {
  "anaconda-cloud": {},
  "kernelspec": {
   "display_name": "Python [conda env:digitrecon]",
   "language": "python",
   "name": "conda-env-digitrecon-py"
  },
  "language_info": {
   "codemirror_mode": {
    "name": "ipython",
    "version": 2
   },
   "file_extension": ".py",
   "mimetype": "text/x-python",
   "name": "python",
   "nbconvert_exporter": "python",
   "pygments_lexer": "ipython2",
   "version": "2.7.12"
  }
 },
 "nbformat": 4,
 "nbformat_minor": 2
}
